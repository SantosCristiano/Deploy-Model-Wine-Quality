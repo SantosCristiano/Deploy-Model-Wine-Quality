{
 "cells": [
  {
   "cell_type": "markdown",
   "id": "cd54365c",
   "metadata": {},
   "source": [
    "# 0.0. Imports "
   ]
  },
  {
   "cell_type": "code",
   "execution_count": 1,
   "id": "f868e74f",
   "metadata": {},
   "outputs": [],
   "source": [
    "import requests\n",
    "import pandas as pd\n",
    "import numpy  as np\n",
    "import pickle\n",
    "import seaborn as sns\n",
    "#from sklearn import model_selection as ms\n",
    "from sklearn.model_selection import train_test_split\n",
    "from sklearn.linear_model    import ElasticNet\n",
    "from sklearn.metrics         import mean_squared_error, mean_absolute_error, r2_score\n",
    "from sklearn.preprocessing   import MinMaxScaler"
   ]
  },
  {
   "cell_type": "markdown",
   "id": "2c9bfff9",
   "metadata": {},
   "source": [
    "# 0.1. Loading Data"
   ]
  },
  {
   "cell_type": "code",
   "execution_count": 2,
   "id": "df7f9cc4",
   "metadata": {
    "scrolled": true
   },
   "outputs": [
    {
     "data": {
      "text/html": [
       "<div>\n",
       "<style scoped>\n",
       "    .dataframe tbody tr th:only-of-type {\n",
       "        vertical-align: middle;\n",
       "    }\n",
       "\n",
       "    .dataframe tbody tr th {\n",
       "        vertical-align: top;\n",
       "    }\n",
       "\n",
       "    .dataframe thead th {\n",
       "        text-align: right;\n",
       "    }\n",
       "</style>\n",
       "<table border=\"1\" class=\"dataframe\">\n",
       "  <thead>\n",
       "    <tr style=\"text-align: right;\">\n",
       "      <th></th>\n",
       "      <th>fixed acidity</th>\n",
       "      <th>volatile acidity</th>\n",
       "      <th>citric acid</th>\n",
       "      <th>residual sugar</th>\n",
       "      <th>chlorides</th>\n",
       "      <th>free sulfur dioxide</th>\n",
       "      <th>total sulfur dioxide</th>\n",
       "      <th>density</th>\n",
       "      <th>pH</th>\n",
       "      <th>sulphates</th>\n",
       "      <th>alcohol</th>\n",
       "      <th>quality</th>\n",
       "    </tr>\n",
       "  </thead>\n",
       "  <tbody>\n",
       "    <tr>\n",
       "      <th>0</th>\n",
       "      <td>7.4</td>\n",
       "      <td>0.70</td>\n",
       "      <td>0.00</td>\n",
       "      <td>1.9</td>\n",
       "      <td>0.076</td>\n",
       "      <td>11.0</td>\n",
       "      <td>34.0</td>\n",
       "      <td>0.9978</td>\n",
       "      <td>3.51</td>\n",
       "      <td>0.56</td>\n",
       "      <td>9.4</td>\n",
       "      <td>5</td>\n",
       "    </tr>\n",
       "    <tr>\n",
       "      <th>1</th>\n",
       "      <td>7.8</td>\n",
       "      <td>0.88</td>\n",
       "      <td>0.00</td>\n",
       "      <td>2.6</td>\n",
       "      <td>0.098</td>\n",
       "      <td>25.0</td>\n",
       "      <td>67.0</td>\n",
       "      <td>0.9968</td>\n",
       "      <td>3.20</td>\n",
       "      <td>0.68</td>\n",
       "      <td>9.8</td>\n",
       "      <td>5</td>\n",
       "    </tr>\n",
       "    <tr>\n",
       "      <th>2</th>\n",
       "      <td>7.8</td>\n",
       "      <td>0.76</td>\n",
       "      <td>0.04</td>\n",
       "      <td>2.3</td>\n",
       "      <td>0.092</td>\n",
       "      <td>15.0</td>\n",
       "      <td>54.0</td>\n",
       "      <td>0.9970</td>\n",
       "      <td>3.26</td>\n",
       "      <td>0.65</td>\n",
       "      <td>9.8</td>\n",
       "      <td>5</td>\n",
       "    </tr>\n",
       "    <tr>\n",
       "      <th>3</th>\n",
       "      <td>11.2</td>\n",
       "      <td>0.28</td>\n",
       "      <td>0.56</td>\n",
       "      <td>1.9</td>\n",
       "      <td>0.075</td>\n",
       "      <td>17.0</td>\n",
       "      <td>60.0</td>\n",
       "      <td>0.9980</td>\n",
       "      <td>3.16</td>\n",
       "      <td>0.58</td>\n",
       "      <td>9.8</td>\n",
       "      <td>6</td>\n",
       "    </tr>\n",
       "    <tr>\n",
       "      <th>4</th>\n",
       "      <td>7.4</td>\n",
       "      <td>0.70</td>\n",
       "      <td>0.00</td>\n",
       "      <td>1.9</td>\n",
       "      <td>0.076</td>\n",
       "      <td>11.0</td>\n",
       "      <td>34.0</td>\n",
       "      <td>0.9978</td>\n",
       "      <td>3.51</td>\n",
       "      <td>0.56</td>\n",
       "      <td>9.4</td>\n",
       "      <td>5</td>\n",
       "    </tr>\n",
       "  </tbody>\n",
       "</table>\n",
       "</div>"
      ],
      "text/plain": [
       "   fixed acidity  volatile acidity  citric acid  residual sugar  chlorides  \\\n",
       "0            7.4              0.70         0.00             1.9      0.076   \n",
       "1            7.8              0.88         0.00             2.6      0.098   \n",
       "2            7.8              0.76         0.04             2.3      0.092   \n",
       "3           11.2              0.28         0.56             1.9      0.075   \n",
       "4            7.4              0.70         0.00             1.9      0.076   \n",
       "\n",
       "   free sulfur dioxide  total sulfur dioxide  density    pH  sulphates  \\\n",
       "0                 11.0                  34.0   0.9978  3.51       0.56   \n",
       "1                 25.0                  67.0   0.9968  3.20       0.68   \n",
       "2                 15.0                  54.0   0.9970  3.26       0.65   \n",
       "3                 17.0                  60.0   0.9980  3.16       0.58   \n",
       "4                 11.0                  34.0   0.9978  3.51       0.56   \n",
       "\n",
       "   alcohol  quality  \n",
       "0      9.4        5  \n",
       "1      9.8        5  \n",
       "2      9.8        5  \n",
       "3      9.8        6  \n",
       "4      9.4        5  "
      ]
     },
     "execution_count": 2,
     "metadata": {},
     "output_type": "execute_result"
    }
   ],
   "source": [
    "csv_url = 'dataset/winequality-red.csv';\n",
    "df_raw = pd.read_csv( csv_url, sep=';' )\n",
    "df_raw.head()"
   ]
  },
  {
   "cell_type": "code",
   "execution_count": 3,
   "id": "8cdac673",
   "metadata": {},
   "outputs": [
    {
     "data": {
      "text/plain": [
       "459    3\n",
       "18     4\n",
       "0      5\n",
       "3      6\n",
       "7      7\n",
       "267    8\n",
       "Name: quality, dtype: int64"
      ]
     },
     "execution_count": 3,
     "metadata": {},
     "output_type": "execute_result"
    }
   ],
   "source": [
    "df_raw['quality'].drop_duplicates().sort_values()"
   ]
  },
  {
   "cell_type": "markdown",
   "id": "2c6bd34a",
   "metadata": {},
   "source": [
    "# 1.0. Data Preparation"
   ]
  },
  {
   "cell_type": "code",
   "execution_count": 4,
   "id": "3a59d8cc",
   "metadata": {},
   "outputs": [],
   "source": [
    "df1 =  df_raw.copy()"
   ]
  },
  {
   "cell_type": "markdown",
   "id": "62a6b6c5",
   "metadata": {},
   "source": [
    "# 1.1. Rescaling"
   ]
  },
  {
   "cell_type": "code",
   "execution_count": 5,
   "id": "1b8ab4da",
   "metadata": {},
   "outputs": [],
   "source": [
    "# min max scaler\n",
    "# x_new = ( x_old - min() ) / ( max - min )\n",
    "mms = MinMaxScaler()"
   ]
  },
  {
   "cell_type": "code",
   "execution_count": 6,
   "id": "b558ac8c",
   "metadata": {},
   "outputs": [],
   "source": [
    "# free sulfur dioxide\n",
    "df1['free sulfur dioxide'] = mms.fit_transform( df1[['free sulfur dioxide']].values )\n",
    "pickle.dump( mms, open('/Users/santo/repos/Wine-Quality/deploy/free_sulfur_scaler.pkl', 'wb') )\n",
    "\n",
    "# total sulfur dioxide\n",
    "df1['total sulfur dioxide'] = np.log1p( df1['total sulfur dioxide'] )\n",
    "df1['total sulfur dioxide'] = mms.fit_transform( df1[['total sulfur dioxide']].values )\n",
    "pickle.dump( mms, open('/Users/santo/repos/Wine-Quality/deploy/total_sulfur_scaler.pkl', 'wb') )"
   ]
  },
  {
   "cell_type": "code",
   "execution_count": 7,
   "id": "29091d3f",
   "metadata": {},
   "outputs": [
    {
     "data": {
      "text/plain": [
       "<AxesSubplot:xlabel='total sulfur dioxide', ylabel='Count'>"
      ]
     },
     "execution_count": 7,
     "metadata": {},
     "output_type": "execute_result"
    },
    {
     "data": {
      "image/png": "[encoded data removed]",
      "text/plain": [
       "<Figure size 432x288 with 1 Axes>"
      ]
     },
     "metadata": {
      "needs_background": "light"
     },
     "output_type": "display_data"
    }
   ],
   "source": [
    "sns.histplot( np.log1p( df1['total sulfur dioxide'] ), kde=False )"
   ]
  },
  {
   "cell_type": "code",
   "execution_count": 8,
   "id": "e269c579",
   "metadata": {},
   "outputs": [],
   "source": [
    "train, test = train_test_split( df1 ) # 75% train e 25% test"
   ]
  },
  {
   "cell_type": "code",
   "execution_count": 9,
   "id": "e3728cb6",
   "metadata": {},
   "outputs": [
    {
     "data": {
      "text/html": [
       "<div>\n",
       "<style scoped>\n",
       "    .dataframe tbody tr th:only-of-type {\n",
       "        vertical-align: middle;\n",
       "    }\n",
       "\n",
       "    .dataframe tbody tr th {\n",
       "        vertical-align: top;\n",
       "    }\n",
       "\n",
       "    .dataframe thead th {\n",
       "        text-align: right;\n",
       "    }\n",
       "</style>\n",
       "<table border=\"1\" class=\"dataframe\">\n",
       "  <thead>\n",
       "    <tr style=\"text-align: right;\">\n",
       "      <th></th>\n",
       "      <th>fixed acidity</th>\n",
       "      <th>volatile acidity</th>\n",
       "      <th>citric acid</th>\n",
       "      <th>residual sugar</th>\n",
       "      <th>chlorides</th>\n",
       "      <th>free sulfur dioxide</th>\n",
       "      <th>total sulfur dioxide</th>\n",
       "      <th>density</th>\n",
       "      <th>pH</th>\n",
       "      <th>sulphates</th>\n",
       "      <th>alcohol</th>\n",
       "      <th>quality</th>\n",
       "    </tr>\n",
       "  </thead>\n",
       "  <tbody>\n",
       "    <tr>\n",
       "      <th>1285</th>\n",
       "      <td>11.3</td>\n",
       "      <td>0.37</td>\n",
       "      <td>0.50</td>\n",
       "      <td>1.8</td>\n",
       "      <td>0.090</td>\n",
       "      <td>0.267606</td>\n",
       "      <td>0.516999</td>\n",
       "      <td>0.99734</td>\n",
       "      <td>3.15</td>\n",
       "      <td>0.57</td>\n",
       "      <td>10.5</td>\n",
       "      <td>5</td>\n",
       "    </tr>\n",
       "    <tr>\n",
       "      <th>157</th>\n",
       "      <td>7.1</td>\n",
       "      <td>0.43</td>\n",
       "      <td>0.42</td>\n",
       "      <td>5.5</td>\n",
       "      <td>0.071</td>\n",
       "      <td>0.380282</td>\n",
       "      <td>0.782472</td>\n",
       "      <td>0.99730</td>\n",
       "      <td>3.42</td>\n",
       "      <td>0.71</td>\n",
       "      <td>10.5</td>\n",
       "      <td>5</td>\n",
       "    </tr>\n",
       "    <tr>\n",
       "      <th>757</th>\n",
       "      <td>8.1</td>\n",
       "      <td>0.87</td>\n",
       "      <td>0.00</td>\n",
       "      <td>2.2</td>\n",
       "      <td>0.084</td>\n",
       "      <td>0.126761</td>\n",
       "      <td>0.408120</td>\n",
       "      <td>0.99656</td>\n",
       "      <td>3.25</td>\n",
       "      <td>0.50</td>\n",
       "      <td>9.8</td>\n",
       "      <td>5</td>\n",
       "    </tr>\n",
       "    <tr>\n",
       "      <th>1219</th>\n",
       "      <td>9.0</td>\n",
       "      <td>0.39</td>\n",
       "      <td>0.40</td>\n",
       "      <td>1.3</td>\n",
       "      <td>0.044</td>\n",
       "      <td>0.338028</td>\n",
       "      <td>0.533279</td>\n",
       "      <td>0.99478</td>\n",
       "      <td>3.20</td>\n",
       "      <td>0.83</td>\n",
       "      <td>10.9</td>\n",
       "      <td>6</td>\n",
       "    </tr>\n",
       "    <tr>\n",
       "      <th>874</th>\n",
       "      <td>10.4</td>\n",
       "      <td>0.38</td>\n",
       "      <td>0.46</td>\n",
       "      <td>2.1</td>\n",
       "      <td>0.104</td>\n",
       "      <td>0.070423</td>\n",
       "      <td>0.121372</td>\n",
       "      <td>0.99664</td>\n",
       "      <td>3.12</td>\n",
       "      <td>0.65</td>\n",
       "      <td>11.8</td>\n",
       "      <td>7</td>\n",
       "    </tr>\n",
       "  </tbody>\n",
       "</table>\n",
       "</div>"
      ],
      "text/plain": [
       "      fixed acidity  volatile acidity  citric acid  residual sugar  chlorides  \\\n",
       "1285           11.3              0.37         0.50             1.8      0.090   \n",
       "157             7.1              0.43         0.42             5.5      0.071   \n",
       "757             8.1              0.87         0.00             2.2      0.084   \n",
       "1219            9.0              0.39         0.40             1.3      0.044   \n",
       "874            10.4              0.38         0.46             2.1      0.104   \n",
       "\n",
       "      free sulfur dioxide  total sulfur dioxide  density    pH  sulphates  \\\n",
       "1285             0.267606              0.516999  0.99734  3.15       0.57   \n",
       "157              0.380282              0.782472  0.99730  3.42       0.71   \n",
       "757              0.126761              0.408120  0.99656  3.25       0.50   \n",
       "1219             0.338028              0.533279  0.99478  3.20       0.83   \n",
       "874              0.070423              0.121372  0.99664  3.12       0.65   \n",
       "\n",
       "      alcohol  quality  \n",
       "1285     10.5        5  \n",
       "157      10.5        5  \n",
       "757       9.8        5  \n",
       "1219     10.9        6  \n",
       "874      11.8        7  "
      ]
     },
     "execution_count": 9,
     "metadata": {},
     "output_type": "execute_result"
    }
   ],
   "source": [
    "train.head()"
   ]
  },
  {
   "cell_type": "code",
   "execution_count": 10,
   "id": "b8fb9e8f",
   "metadata": {},
   "outputs": [
    {
     "data": {
      "text/html": [
       "<div>\n",
       "<style scoped>\n",
       "    .dataframe tbody tr th:only-of-type {\n",
       "        vertical-align: middle;\n",
       "    }\n",
       "\n",
       "    .dataframe tbody tr th {\n",
       "        vertical-align: top;\n",
       "    }\n",
       "\n",
       "    .dataframe thead th {\n",
       "        text-align: right;\n",
       "    }\n",
       "</style>\n",
       "<table border=\"1\" class=\"dataframe\">\n",
       "  <thead>\n",
       "    <tr style=\"text-align: right;\">\n",
       "      <th></th>\n",
       "      <th>fixed acidity</th>\n",
       "      <th>volatile acidity</th>\n",
       "      <th>citric acid</th>\n",
       "      <th>residual sugar</th>\n",
       "      <th>chlorides</th>\n",
       "      <th>free sulfur dioxide</th>\n",
       "      <th>total sulfur dioxide</th>\n",
       "      <th>density</th>\n",
       "      <th>pH</th>\n",
       "      <th>sulphates</th>\n",
       "      <th>alcohol</th>\n",
       "      <th>quality</th>\n",
       "    </tr>\n",
       "  </thead>\n",
       "  <tbody>\n",
       "    <tr>\n",
       "      <th>599</th>\n",
       "      <td>12.7</td>\n",
       "      <td>0.590</td>\n",
       "      <td>0.45</td>\n",
       "      <td>2.3</td>\n",
       "      <td>0.082</td>\n",
       "      <td>0.140845</td>\n",
       "      <td>0.319440</td>\n",
       "      <td>1.00000</td>\n",
       "      <td>3.00</td>\n",
       "      <td>0.70</td>\n",
       "      <td>9.3</td>\n",
       "      <td>6</td>\n",
       "    </tr>\n",
       "    <tr>\n",
       "      <th>213</th>\n",
       "      <td>8.2</td>\n",
       "      <td>0.570</td>\n",
       "      <td>0.26</td>\n",
       "      <td>2.2</td>\n",
       "      <td>0.060</td>\n",
       "      <td>0.380282</td>\n",
       "      <td>0.602514</td>\n",
       "      <td>0.99590</td>\n",
       "      <td>3.30</td>\n",
       "      <td>0.43</td>\n",
       "      <td>10.1</td>\n",
       "      <td>5</td>\n",
       "    </tr>\n",
       "    <tr>\n",
       "      <th>10</th>\n",
       "      <td>6.7</td>\n",
       "      <td>0.580</td>\n",
       "      <td>0.08</td>\n",
       "      <td>1.8</td>\n",
       "      <td>0.097</td>\n",
       "      <td>0.197183</td>\n",
       "      <td>0.602514</td>\n",
       "      <td>0.99590</td>\n",
       "      <td>3.28</td>\n",
       "      <td>0.54</td>\n",
       "      <td>9.2</td>\n",
       "      <td>5</td>\n",
       "    </tr>\n",
       "    <tr>\n",
       "      <th>763</th>\n",
       "      <td>9.3</td>\n",
       "      <td>0.655</td>\n",
       "      <td>0.26</td>\n",
       "      <td>2.0</td>\n",
       "      <td>0.096</td>\n",
       "      <td>0.056338</td>\n",
       "      <td>0.439748</td>\n",
       "      <td>0.99738</td>\n",
       "      <td>3.25</td>\n",
       "      <td>0.42</td>\n",
       "      <td>9.6</td>\n",
       "      <td>5</td>\n",
       "    </tr>\n",
       "    <tr>\n",
       "      <th>618</th>\n",
       "      <td>11.4</td>\n",
       "      <td>0.460</td>\n",
       "      <td>0.50</td>\n",
       "      <td>2.7</td>\n",
       "      <td>0.122</td>\n",
       "      <td>0.042254</td>\n",
       "      <td>0.253617</td>\n",
       "      <td>1.00060</td>\n",
       "      <td>3.13</td>\n",
       "      <td>0.70</td>\n",
       "      <td>10.2</td>\n",
       "      <td>5</td>\n",
       "    </tr>\n",
       "  </tbody>\n",
       "</table>\n",
       "</div>"
      ],
      "text/plain": [
       "     fixed acidity  volatile acidity  citric acid  residual sugar  chlorides  \\\n",
       "599           12.7             0.590         0.45             2.3      0.082   \n",
       "213            8.2             0.570         0.26             2.2      0.060   \n",
       "10             6.7             0.580         0.08             1.8      0.097   \n",
       "763            9.3             0.655         0.26             2.0      0.096   \n",
       "618           11.4             0.460         0.50             2.7      0.122   \n",
       "\n",
       "     free sulfur dioxide  total sulfur dioxide  density    pH  sulphates  \\\n",
       "599             0.140845              0.319440  1.00000  3.00       0.70   \n",
       "213             0.380282              0.602514  0.99590  3.30       0.43   \n",
       "10              0.197183              0.602514  0.99590  3.28       0.54   \n",
       "763             0.056338              0.439748  0.99738  3.25       0.42   \n",
       "618             0.042254              0.253617  1.00060  3.13       0.70   \n",
       "\n",
       "     alcohol  quality  \n",
       "599      9.3        6  \n",
       "213     10.1        5  \n",
       "10       9.2        5  \n",
       "763      9.6        5  \n",
       "618     10.2        5  "
      ]
     },
     "execution_count": 10,
     "metadata": {},
     "output_type": "execute_result"
    }
   ],
   "source": [
    "test.head()"
   ]
  },
  {
   "cell_type": "code",
   "execution_count": 11,
   "id": "1db5e67a",
   "metadata": {},
   "outputs": [],
   "source": [
    "# train and test dataset\n",
    "x_train = train.drop( 'quality', axis=1 )\n",
    "y_train = train['quality']\n",
    "\n",
    "x_test = test.drop( 'quality', axis=1 )\n",
    "y_test = test['quality']"
   ]
  },
  {
   "cell_type": "code",
   "execution_count": 12,
   "id": "2dd9b7c7",
   "metadata": {},
   "outputs": [
    {
     "data": {
      "text/html": [
       "<div>\n",
       "<style scoped>\n",
       "    .dataframe tbody tr th:only-of-type {\n",
       "        vertical-align: middle;\n",
       "    }\n",
       "\n",
       "    .dataframe tbody tr th {\n",
       "        vertical-align: top;\n",
       "    }\n",
       "\n",
       "    .dataframe thead th {\n",
       "        text-align: right;\n",
       "    }\n",
       "</style>\n",
       "<table border=\"1\" class=\"dataframe\">\n",
       "  <thead>\n",
       "    <tr style=\"text-align: right;\">\n",
       "      <th></th>\n",
       "      <th>fixed acidity</th>\n",
       "      <th>volatile acidity</th>\n",
       "      <th>citric acid</th>\n",
       "      <th>residual sugar</th>\n",
       "      <th>chlorides</th>\n",
       "      <th>free sulfur dioxide</th>\n",
       "      <th>total sulfur dioxide</th>\n",
       "      <th>density</th>\n",
       "      <th>pH</th>\n",
       "      <th>sulphates</th>\n",
       "      <th>alcohol</th>\n",
       "    </tr>\n",
       "  </thead>\n",
       "  <tbody>\n",
       "    <tr>\n",
       "      <th>1285</th>\n",
       "      <td>11.3</td>\n",
       "      <td>0.37</td>\n",
       "      <td>0.50</td>\n",
       "      <td>1.8</td>\n",
       "      <td>0.090</td>\n",
       "      <td>0.267606</td>\n",
       "      <td>0.516999</td>\n",
       "      <td>0.99734</td>\n",
       "      <td>3.15</td>\n",
       "      <td>0.57</td>\n",
       "      <td>10.5</td>\n",
       "    </tr>\n",
       "    <tr>\n",
       "      <th>157</th>\n",
       "      <td>7.1</td>\n",
       "      <td>0.43</td>\n",
       "      <td>0.42</td>\n",
       "      <td>5.5</td>\n",
       "      <td>0.071</td>\n",
       "      <td>0.380282</td>\n",
       "      <td>0.782472</td>\n",
       "      <td>0.99730</td>\n",
       "      <td>3.42</td>\n",
       "      <td>0.71</td>\n",
       "      <td>10.5</td>\n",
       "    </tr>\n",
       "    <tr>\n",
       "      <th>757</th>\n",
       "      <td>8.1</td>\n",
       "      <td>0.87</td>\n",
       "      <td>0.00</td>\n",
       "      <td>2.2</td>\n",
       "      <td>0.084</td>\n",
       "      <td>0.126761</td>\n",
       "      <td>0.408120</td>\n",
       "      <td>0.99656</td>\n",
       "      <td>3.25</td>\n",
       "      <td>0.50</td>\n",
       "      <td>9.8</td>\n",
       "    </tr>\n",
       "    <tr>\n",
       "      <th>1219</th>\n",
       "      <td>9.0</td>\n",
       "      <td>0.39</td>\n",
       "      <td>0.40</td>\n",
       "      <td>1.3</td>\n",
       "      <td>0.044</td>\n",
       "      <td>0.338028</td>\n",
       "      <td>0.533279</td>\n",
       "      <td>0.99478</td>\n",
       "      <td>3.20</td>\n",
       "      <td>0.83</td>\n",
       "      <td>10.9</td>\n",
       "    </tr>\n",
       "    <tr>\n",
       "      <th>874</th>\n",
       "      <td>10.4</td>\n",
       "      <td>0.38</td>\n",
       "      <td>0.46</td>\n",
       "      <td>2.1</td>\n",
       "      <td>0.104</td>\n",
       "      <td>0.070423</td>\n",
       "      <td>0.121372</td>\n",
       "      <td>0.99664</td>\n",
       "      <td>3.12</td>\n",
       "      <td>0.65</td>\n",
       "      <td>11.8</td>\n",
       "    </tr>\n",
       "  </tbody>\n",
       "</table>\n",
       "</div>"
      ],
      "text/plain": [
       "      fixed acidity  volatile acidity  citric acid  residual sugar  chlorides  \\\n",
       "1285           11.3              0.37         0.50             1.8      0.090   \n",
       "157             7.1              0.43         0.42             5.5      0.071   \n",
       "757             8.1              0.87         0.00             2.2      0.084   \n",
       "1219            9.0              0.39         0.40             1.3      0.044   \n",
       "874            10.4              0.38         0.46             2.1      0.104   \n",
       "\n",
       "      free sulfur dioxide  total sulfur dioxide  density    pH  sulphates  \\\n",
       "1285             0.267606              0.516999  0.99734  3.15       0.57   \n",
       "157              0.380282              0.782472  0.99730  3.42       0.71   \n",
       "757              0.126761              0.408120  0.99656  3.25       0.50   \n",
       "1219             0.338028              0.533279  0.99478  3.20       0.83   \n",
       "874              0.070423              0.121372  0.99664  3.12       0.65   \n",
       "\n",
       "      alcohol  \n",
       "1285     10.5  \n",
       "157      10.5  \n",
       "757       9.8  \n",
       "1219     10.9  \n",
       "874      11.8  "
      ]
     },
     "execution_count": 12,
     "metadata": {},
     "output_type": "execute_result"
    }
   ],
   "source": [
    "x_train.head()"
   ]
  },
  {
   "cell_type": "code",
   "execution_count": 13,
   "id": "922fb451",
   "metadata": {},
   "outputs": [
    {
     "data": {
      "text/plain": [
       "1285    5\n",
       "157     5\n",
       "757     5\n",
       "1219    6\n",
       "874     7\n",
       "Name: quality, dtype: int64"
      ]
     },
     "execution_count": 13,
     "metadata": {},
     "output_type": "execute_result"
    }
   ],
   "source": [
    "y_train.head()"
   ]
  },
  {
   "cell_type": "code",
   "execution_count": 14,
   "id": "75c6b2de",
   "metadata": {},
   "outputs": [
    {
     "data": {
      "text/html": [
       "<div>\n",
       "<style scoped>\n",
       "    .dataframe tbody tr th:only-of-type {\n",
       "        vertical-align: middle;\n",
       "    }\n",
       "\n",
       "    .dataframe tbody tr th {\n",
       "        vertical-align: top;\n",
       "    }\n",
       "\n",
       "    .dataframe thead th {\n",
       "        text-align: right;\n",
       "    }\n",
       "</style>\n",
       "<table border=\"1\" class=\"dataframe\">\n",
       "  <thead>\n",
       "    <tr style=\"text-align: right;\">\n",
       "      <th></th>\n",
       "      <th>fixed acidity</th>\n",
       "      <th>volatile acidity</th>\n",
       "      <th>citric acid</th>\n",
       "      <th>residual sugar</th>\n",
       "      <th>chlorides</th>\n",
       "      <th>free sulfur dioxide</th>\n",
       "      <th>total sulfur dioxide</th>\n",
       "      <th>density</th>\n",
       "      <th>pH</th>\n",
       "      <th>sulphates</th>\n",
       "      <th>alcohol</th>\n",
       "    </tr>\n",
       "  </thead>\n",
       "  <tbody>\n",
       "    <tr>\n",
       "      <th>599</th>\n",
       "      <td>12.7</td>\n",
       "      <td>0.590</td>\n",
       "      <td>0.45</td>\n",
       "      <td>2.3</td>\n",
       "      <td>0.082</td>\n",
       "      <td>0.140845</td>\n",
       "      <td>0.319440</td>\n",
       "      <td>1.00000</td>\n",
       "      <td>3.00</td>\n",
       "      <td>0.70</td>\n",
       "      <td>9.3</td>\n",
       "    </tr>\n",
       "    <tr>\n",
       "      <th>213</th>\n",
       "      <td>8.2</td>\n",
       "      <td>0.570</td>\n",
       "      <td>0.26</td>\n",
       "      <td>2.2</td>\n",
       "      <td>0.060</td>\n",
       "      <td>0.380282</td>\n",
       "      <td>0.602514</td>\n",
       "      <td>0.99590</td>\n",
       "      <td>3.30</td>\n",
       "      <td>0.43</td>\n",
       "      <td>10.1</td>\n",
       "    </tr>\n",
       "    <tr>\n",
       "      <th>10</th>\n",
       "      <td>6.7</td>\n",
       "      <td>0.580</td>\n",
       "      <td>0.08</td>\n",
       "      <td>1.8</td>\n",
       "      <td>0.097</td>\n",
       "      <td>0.197183</td>\n",
       "      <td>0.602514</td>\n",
       "      <td>0.99590</td>\n",
       "      <td>3.28</td>\n",
       "      <td>0.54</td>\n",
       "      <td>9.2</td>\n",
       "    </tr>\n",
       "    <tr>\n",
       "      <th>763</th>\n",
       "      <td>9.3</td>\n",
       "      <td>0.655</td>\n",
       "      <td>0.26</td>\n",
       "      <td>2.0</td>\n",
       "      <td>0.096</td>\n",
       "      <td>0.056338</td>\n",
       "      <td>0.439748</td>\n",
       "      <td>0.99738</td>\n",
       "      <td>3.25</td>\n",
       "      <td>0.42</td>\n",
       "      <td>9.6</td>\n",
       "    </tr>\n",
       "    <tr>\n",
       "      <th>618</th>\n",
       "      <td>11.4</td>\n",
       "      <td>0.460</td>\n",
       "      <td>0.50</td>\n",
       "      <td>2.7</td>\n",
       "      <td>0.122</td>\n",
       "      <td>0.042254</td>\n",
       "      <td>0.253617</td>\n",
       "      <td>1.00060</td>\n",
       "      <td>3.13</td>\n",
       "      <td>0.70</td>\n",
       "      <td>10.2</td>\n",
       "    </tr>\n",
       "  </tbody>\n",
       "</table>\n",
       "</div>"
      ],
      "text/plain": [
       "     fixed acidity  volatile acidity  citric acid  residual sugar  chlorides  \\\n",
       "599           12.7             0.590         0.45             2.3      0.082   \n",
       "213            8.2             0.570         0.26             2.2      0.060   \n",
       "10             6.7             0.580         0.08             1.8      0.097   \n",
       "763            9.3             0.655         0.26             2.0      0.096   \n",
       "618           11.4             0.460         0.50             2.7      0.122   \n",
       "\n",
       "     free sulfur dioxide  total sulfur dioxide  density    pH  sulphates  \\\n",
       "599             0.140845              0.319440  1.00000  3.00       0.70   \n",
       "213             0.380282              0.602514  0.99590  3.30       0.43   \n",
       "10              0.197183              0.602514  0.99590  3.28       0.54   \n",
       "763             0.056338              0.439748  0.99738  3.25       0.42   \n",
       "618             0.042254              0.253617  1.00060  3.13       0.70   \n",
       "\n",
       "     alcohol  \n",
       "599      9.3  \n",
       "213     10.1  \n",
       "10       9.2  \n",
       "763      9.6  \n",
       "618     10.2  "
      ]
     },
     "execution_count": 14,
     "metadata": {},
     "output_type": "execute_result"
    }
   ],
   "source": [
    "x_test.head()"
   ]
  },
  {
   "cell_type": "code",
   "execution_count": 15,
   "id": "db3af80e",
   "metadata": {},
   "outputs": [
    {
     "data": {
      "text/plain": [
       "599    6\n",
       "213    5\n",
       "10     5\n",
       "763    5\n",
       "618    5\n",
       "Name: quality, dtype: int64"
      ]
     },
     "execution_count": 15,
     "metadata": {},
     "output_type": "execute_result"
    }
   ],
   "source": [
    "y_test.head()"
   ]
  },
  {
   "cell_type": "markdown",
   "id": "5e945488",
   "metadata": {},
   "source": [
    "# 2.0. ML Modelling"
   ]
  },
  {
   "cell_type": "code",
   "execution_count": 16,
   "id": "e17de6cc",
   "metadata": {},
   "outputs": [],
   "source": [
    "# model definition\n",
    "model = ElasticNet( alpha=0.5, l1_ratio=0.5, random_state=42)"
   ]
  },
  {
   "cell_type": "code",
   "execution_count": 17,
   "id": "3e6b9e8b",
   "metadata": {},
   "outputs": [
    {
     "data": {
      "text/plain": [
       "ElasticNet(alpha=0.5, random_state=42)"
      ]
     },
     "execution_count": 17,
     "metadata": {},
     "output_type": "execute_result"
    }
   ],
   "source": [
    "# training\n",
    "model.fit( x_train, y_train )"
   ]
  },
  {
   "cell_type": "code",
   "execution_count": 18,
   "id": "9b12040d",
   "metadata": {},
   "outputs": [],
   "source": [
    "# prediction\n",
    "pred = model.predict( x_test )"
   ]
  },
  {
   "cell_type": "code",
   "execution_count": 19,
   "id": "7dadfdbc",
   "metadata": {},
   "outputs": [
    {
     "data": {
      "text/plain": [
       "array([5.50338712, 5.60683618, 5.49045599, 5.54218052, 5.61976732,\n",
       "       5.71028525, 5.9689079 , 5.52924939, 5.61976732, 5.72321638,\n",
       "       5.82666544, 5.52924939, 5.51631826, 5.56804279, 5.52924939,\n",
       "       5.46459372, 5.59390505, 5.71028525, 5.63269845, 5.52924939,\n",
       "       5.51631826, 5.59390505, 5.56804279, 5.60683618, 5.76200978,\n",
       "       5.83959657, 5.65856071, 5.43873146, 5.77494091, 5.51631826,\n",
       "       5.9689079 , 5.73614751, 5.55511165, 5.8913211 , 5.74907864,\n",
       "       5.56804279, 5.59390505, 5.74907864, 5.52924939, 5.51631826,\n",
       "       5.71028525, 5.68442298, 5.76200978, 5.65856071, 5.54218052,\n",
       "       5.73614751, 5.72321638, 5.58097392, 5.65856071, 5.8525277 ,\n",
       "       5.65856071, 5.52924939, 5.77494091, 5.52924939, 5.59390505,\n",
       "       5.82666544, 5.65856071, 5.49045599, 5.50338712, 5.64562958,\n",
       "       5.54218052, 5.50338712, 5.55511165, 5.68442298, 5.8913211 ,\n",
       "       5.65856071, 5.84606214, 5.55511165, 5.55511165, 5.78787204,\n",
       "       5.77494091, 5.78787204, 5.59390505, 5.71028525, 5.82666544,\n",
       "       5.58097392, 5.71028525, 5.69735411, 5.65856071, 5.71028525,\n",
       "       5.64562958, 5.52924939, 5.63269845, 5.64562958, 5.71028525,\n",
       "       5.54218052, 5.51631826, 5.56804279, 5.49045599, 5.83959657,\n",
       "       5.52924939, 5.56804279, 5.52924939, 5.72321638, 5.49045599,\n",
       "       5.51631826, 5.65856071, 5.47752486, 5.65856071, 5.51631826,\n",
       "       5.64562958, 5.49045599, 5.82666544, 5.90425224, 5.61976732,\n",
       "       5.78787204, 5.67149185, 5.69735411, 5.74907864, 5.55511165,\n",
       "       5.47752486, 5.76200978, 5.47752486, 5.51631826, 5.81373431,\n",
       "       5.69735411, 5.51631826, 5.59390505, 5.49045599, 5.50338712,\n",
       "       5.61976732, 5.46459372, 5.58097392, 5.58097392, 5.8525277 ,\n",
       "       5.60683618, 5.73614751, 5.55511165, 5.60683618, 5.52924939,\n",
       "       5.55511165, 5.59390505, 5.52924939, 5.82666544, 5.69735411,\n",
       "       5.51631826, 5.74907864, 5.52924939, 5.69735411, 5.72321638,\n",
       "       5.61976732, 5.67149185, 5.50338712, 5.49045599, 5.58097392,\n",
       "       5.61976732, 5.51631826, 5.71028525, 5.52924939, 5.82666544,\n",
       "       5.47752486, 5.52924939, 5.50338712, 5.80080317, 5.51631826,\n",
       "       5.60683618, 5.52924939, 5.64562958, 5.60683618, 5.72321638,\n",
       "       5.94304563, 5.65856071, 5.49045599, 5.59390505, 5.65856071,\n",
       "       5.56804279, 5.61976732, 5.49045599, 5.76200978, 5.91718337,\n",
       "       5.63269845, 5.80080317, 5.69735411, 5.53571495, 5.54218052,\n",
       "       5.68442298, 5.47752486, 5.65856071, 5.47752486, 5.73614751,\n",
       "       5.50338712, 5.50338712, 5.74907864, 5.77494091, 5.65856071,\n",
       "       5.51631826, 5.71028525, 5.49045599, 5.61976732, 5.80080317,\n",
       "       5.71028525, 5.60683618, 5.49045599, 5.63269845, 5.77494091,\n",
       "       5.54218052, 5.47752486, 5.77494091, 5.72321638, 5.52924939,\n",
       "       5.63269845, 5.86545884, 5.78787204, 5.55511165, 5.55511165,\n",
       "       5.46459372, 5.58097392, 5.78787204, 5.59390505, 5.90425224,\n",
       "       6.05942583, 5.78787204, 5.52924939, 5.51631826, 5.83959657,\n",
       "       5.52924939, 5.52924939, 5.80080317, 5.71028525, 5.68442298,\n",
       "       5.67149185, 5.69735411, 5.72321638, 5.87838997, 5.61976732,\n",
       "       5.56804279, 5.58097392, 5.91718337, 5.76200978, 5.76200978,\n",
       "       5.71028525, 5.47752486, 5.68442298, 5.72321638, 5.73614751,\n",
       "       5.60683618, 5.74907864, 5.54218052, 5.49045599, 5.56804279,\n",
       "       5.52924939, 5.51631826, 5.52924939, 5.51631826, 5.64562958,\n",
       "       5.50338712, 5.87838997, 5.56804279, 5.65856071, 5.55511165,\n",
       "       5.63269845, 5.76200978, 5.52924939, 5.61976732, 5.72321638,\n",
       "       5.61976732, 5.74907864, 5.54218052, 5.50338712, 5.52924939,\n",
       "       5.49045599, 5.52924939, 5.67149185, 5.51631826, 5.77494091,\n",
       "       5.51631826, 5.76200978, 5.52924939, 5.52924939, 5.54218052,\n",
       "       5.54218052, 5.49045599, 5.72321638, 5.51631826, 5.50338712,\n",
       "       5.49045599, 5.98183903, 5.52924939, 5.58097392, 5.56804279,\n",
       "       5.56804279, 5.99477016, 5.87838997, 5.86545884, 5.60683618,\n",
       "       5.60683618, 5.56804279, 5.9689079 , 5.59390505, 5.74907864,\n",
       "       5.71028525, 5.65856071, 5.95597677, 5.49045599, 5.51631826,\n",
       "       5.49045599, 5.86545884, 5.64562958, 5.51631826, 5.58097392,\n",
       "       5.74907864, 5.52924939, 5.55511165, 5.73614751, 5.51631826,\n",
       "       5.59390505, 5.56804279, 5.9689079 , 5.52924939, 5.49045599,\n",
       "       5.63269845, 5.38700693, 5.54218052, 5.54218052, 5.69735411,\n",
       "       5.56804279, 5.61976732, 5.65856071, 5.65856071, 5.51631826,\n",
       "       5.67149185, 5.56804279, 5.71028525, 5.52924939, 5.59390505,\n",
       "       5.82666544, 5.73614751, 5.55511165, 5.59390505, 5.65856071,\n",
       "       5.72321638, 5.56804279, 5.81373431, 5.95597677, 5.50338712,\n",
       "       5.55511165, 5.82666544, 5.59390505, 5.51631826, 5.71028525,\n",
       "       5.50338712, 5.58097392, 5.90425224, 5.68442298, 5.51631826,\n",
       "       5.91718337, 5.64562958, 5.59390505, 5.59390505, 5.61976732,\n",
       "       5.58097392, 5.52924939, 5.68442298, 5.73614751, 5.98183903,\n",
       "       5.52924939, 6.11115036, 5.58097392, 5.54218052, 5.51631826,\n",
       "       5.60683618, 5.69735411, 5.81373431, 5.56804279, 5.8525277 ,\n",
       "       5.64562958, 5.52924939, 5.8525277 , 5.69735411, 5.52924939,\n",
       "       5.94304563, 5.64562958, 5.72321638, 5.52924939, 5.54218052,\n",
       "       5.81373431, 5.76200978, 5.94304563, 5.50338712, 5.78787204,\n",
       "       5.51631826, 5.54218052, 5.52924939, 5.69735411, 5.86545884,\n",
       "       5.87838997, 6.11115036, 5.59390505, 5.74907864, 5.58097392,\n",
       "       5.67149185, 5.52924939, 5.52924939, 5.52924939, 5.64562958,\n",
       "       5.56804279, 5.55511165, 5.52924939, 5.55511165, 5.64562958])"
      ]
     },
     "execution_count": 19,
     "metadata": {},
     "output_type": "execute_result"
    }
   ],
   "source": [
    "pred"
   ]
  },
  {
   "cell_type": "code",
   "execution_count": 20,
   "id": "093a4300",
   "metadata": {},
   "outputs": [],
   "source": [
    "rmse = np.sqrt( mean_squared_error( y_test, pred ) )\n",
    "mae = mean_absolute_error( y_test, pred )\n",
    "r2 = r2_score( y_test, pred )"
   ]
  },
  {
   "cell_type": "code",
   "execution_count": 21,
   "id": "c36eacdb",
   "metadata": {},
   "outputs": [
    {
     "name": "stdout",
     "output_type": "stream",
     "text": [
      "RMSE: 0.7578037936452335\n",
      "MAE: 0.6338773977780805\n",
      "R2: 0.10472806124760325\n"
     ]
    }
   ],
   "source": [
    "print( 'RMSE: {}'.format( rmse ) )\n",
    "print( 'MAE: {}'.format( mae ) )\n",
    "print( 'R2: {}'.format( r2 ) )"
   ]
  },
  {
   "cell_type": "code",
   "execution_count": 22,
   "id": "9aacb960",
   "metadata": {},
   "outputs": [],
   "source": [
    "# saved trained model\n",
    "pickle.dump( model, open( '/Users/santo/repos/Wine-Quality/deploy/model_wine_quality.pkl', 'wb' ) )"
   ]
  },
  {
   "cell_type": "markdown",
   "id": "ff6291d3",
   "metadata": {},
   "source": [
    "# 3.0. Prediction"
   ]
  },
  {
   "cell_type": "code",
   "execution_count": 23,
   "id": "d1d05bf0",
   "metadata": {},
   "outputs": [
    {
     "data": {
      "text/html": [
       "<div>\n",
       "<style scoped>\n",
       "    .dataframe tbody tr th:only-of-type {\n",
       "        vertical-align: middle;\n",
       "    }\n",
       "\n",
       "    .dataframe tbody tr th {\n",
       "        vertical-align: top;\n",
       "    }\n",
       "\n",
       "    .dataframe thead th {\n",
       "        text-align: right;\n",
       "    }\n",
       "</style>\n",
       "<table border=\"1\" class=\"dataframe\">\n",
       "  <thead>\n",
       "    <tr style=\"text-align: right;\">\n",
       "      <th></th>\n",
       "      <th>fixed acidity</th>\n",
       "      <th>volatile acidity</th>\n",
       "      <th>citric acid</th>\n",
       "      <th>residual sugar</th>\n",
       "      <th>chlorides</th>\n",
       "      <th>free sulfur dioxide</th>\n",
       "      <th>total sulfur dioxide</th>\n",
       "      <th>density</th>\n",
       "      <th>pH</th>\n",
       "      <th>sulphates</th>\n",
       "      <th>alcohol</th>\n",
       "      <th>quality</th>\n",
       "    </tr>\n",
       "  </thead>\n",
       "  <tbody>\n",
       "    <tr>\n",
       "      <th>763</th>\n",
       "      <td>9.3</td>\n",
       "      <td>0.655</td>\n",
       "      <td>0.26</td>\n",
       "      <td>2.0</td>\n",
       "      <td>0.096</td>\n",
       "      <td>0.056338</td>\n",
       "      <td>0.439748</td>\n",
       "      <td>0.99738</td>\n",
       "      <td>3.25</td>\n",
       "      <td>0.42</td>\n",
       "      <td>9.6</td>\n",
       "      <td>5</td>\n",
       "    </tr>\n",
       "  </tbody>\n",
       "</table>\n",
       "</div>"
      ],
      "text/plain": [
       "     fixed acidity  volatile acidity  citric acid  residual sugar  chlorides  \\\n",
       "763            9.3             0.655         0.26             2.0      0.096   \n",
       "\n",
       "     free sulfur dioxide  total sulfur dioxide  density    pH  sulphates  \\\n",
       "763             0.056338              0.439748  0.99738  3.25       0.42   \n",
       "\n",
       "     alcohol  quality  \n",
       "763      9.6        5  "
      ]
     },
     "execution_count": 23,
     "metadata": {},
     "output_type": "execute_result"
    }
   ],
   "source": [
    "df1.sample()"
   ]
  },
  {
   "cell_type": "code",
   "execution_count": 31,
   "id": "f7e0ef4f",
   "metadata": {},
   "outputs": [],
   "source": [
    "df = df_raw.drop( 'quality', axis=1).sample()"
   ]
  },
  {
   "cell_type": "code",
   "execution_count": 33,
   "id": "e2c27775",
   "metadata": {},
   "outputs": [
    {
     "data": {
      "text/html": [
       "<div>\n",
       "<style scoped>\n",
       "    .dataframe tbody tr th:only-of-type {\n",
       "        vertical-align: middle;\n",
       "    }\n",
       "\n",
       "    .dataframe tbody tr th {\n",
       "        vertical-align: top;\n",
       "    }\n",
       "\n",
       "    .dataframe thead th {\n",
       "        text-align: right;\n",
       "    }\n",
       "</style>\n",
       "<table border=\"1\" class=\"dataframe\">\n",
       "  <thead>\n",
       "    <tr style=\"text-align: right;\">\n",
       "      <th></th>\n",
       "      <th>fixed acidity</th>\n",
       "      <th>volatile acidity</th>\n",
       "      <th>citric acid</th>\n",
       "      <th>residual sugar</th>\n",
       "      <th>chlorides</th>\n",
       "      <th>free sulfur dioxide</th>\n",
       "      <th>total sulfur dioxide</th>\n",
       "      <th>density</th>\n",
       "      <th>pH</th>\n",
       "      <th>sulphates</th>\n",
       "      <th>alcohol</th>\n",
       "    </tr>\n",
       "  </thead>\n",
       "  <tbody>\n",
       "    <tr>\n",
       "      <th>1216</th>\n",
       "      <td>7.9</td>\n",
       "      <td>0.57</td>\n",
       "      <td>0.31</td>\n",
       "      <td>2.0</td>\n",
       "      <td>0.079</td>\n",
       "      <td>0.126761</td>\n",
       "      <td>0.654172</td>\n",
       "      <td>0.99677</td>\n",
       "      <td>3.29</td>\n",
       "      <td>0.69</td>\n",
       "      <td>9.5</td>\n",
       "    </tr>\n",
       "  </tbody>\n",
       "</table>\n",
       "</div>"
      ],
      "text/plain": [
       "      fixed acidity  volatile acidity  citric acid  residual sugar  chlorides  \\\n",
       "1216            7.9              0.57         0.31             2.0      0.079   \n",
       "\n",
       "      free sulfur dioxide  total sulfur dioxide  density    pH  sulphates  \\\n",
       "1216             0.126761              0.654172  0.99677  3.29       0.69   \n",
       "\n",
       "      alcohol  \n",
       "1216      9.5  "
      ]
     },
     "execution_count": 33,
     "metadata": {},
     "output_type": "execute_result"
    }
   ],
   "source": [
    "df"
   ]
  },
  {
   "cell_type": "code",
   "execution_count": 26,
   "id": "8583b093",
   "metadata": {},
   "outputs": [],
   "source": [
    "df_json = df.to_json( orient='records' )"
   ]
  },
  {
   "cell_type": "code",
   "execution_count": 27,
   "id": "a8b1d2c3",
   "metadata": {},
   "outputs": [
    {
     "data": {
      "text/plain": [
       "'[{\"fixed acidity\":7.5,\"volatile acidity\":0.43,\"citric acid\":0.3,\"residual sugar\":2.2,\"chlorides\":0.062,\"free sulfur dioxide\":0.0704225352,\"total sulfur dioxide\":0.1662309524,\"density\":0.99495,\"pH\":3.44,\"sulphates\":0.72,\"alcohol\":11.5}]'"
      ]
     },
     "execution_count": 27,
     "metadata": {},
     "output_type": "execute_result"
    }
   ],
   "source": [
    "df_json"
   ]
  },
  {
   "cell_type": "code",
   "execution_count": null,
   "id": "70cf8ed3",
   "metadata": {},
   "outputs": [],
   "source": [
    "#url = 'http:///0.0.0.0:5000/predict'\n",
    "url = 'https://wine-quality-model.herokuapp.com/predict'\n",
    "data = df_json\n",
    "header = {'Content-type': 'application/json'}\n",
    "# Request\n",
    "r = requests.post( url=url, data=data, headers=header )"
   ]
  },
  {
   "cell_type": "code",
   "execution_count": null,
   "id": "4a9b532c",
   "metadata": {},
   "outputs": [],
   "source": [
    "r.status_code"
   ]
  },
  {
   "cell_type": "code",
   "execution_count": null,
   "id": "31f2d6e4",
   "metadata": {},
   "outputs": [],
   "source": [
    "pd.DataFrame( r.json(), columns=r.json()[0].keys() )"
   ]
  },
  {
   "cell_type": "markdown",
   "id": "7f5da36e",
   "metadata": {},
   "source": [
    "# Class In Production"
   ]
  },
  {
   "cell_type": "code",
   "execution_count": 34,
   "id": "38f6a837",
   "metadata": {},
   "outputs": [],
   "source": [
    "import pickle\n",
    "\n",
    "class WineQuality( object ):\n",
    "    def __init__( self ):\n",
    "        self.free_sulfur_scaler = pickle.load( open('/Users/santo/repos/Wine-Quality/deploy/free_sulfur_scaler.pkl', 'rb') )\n",
    "        self.free_sulfur_scaler = pickle.load( open('/Users/santo/repos/Wine-Quality/deploy/total_sulfur_scaler.pkl', 'rb') )\n",
    "        \n",
    "    def data_preparation( self, df ):\n",
    "        # rescaling free sulfur\n",
    "        df1['free sulfur dioxide'] = self.free_sulfur_scaler.transform( df1[['free sulfur dioxide']].value )\n",
    "        # rescaling total sulfur\n",
    "        df1['total sulfur dioxide'] = self.total_sulfur_scaler.transform( df1[['total sulfur dioxide']].values )\n",
    "        \n",
    "        return df"
   ]
  },
  {
   "cell_type": "code",
   "execution_count": 35,
   "id": "1118b493",
   "metadata": {},
   "outputs": [
    {
     "data": {
      "text/html": [
       "<div>\n",
       "<style scoped>\n",
       "    .dataframe tbody tr th:only-of-type {\n",
       "        vertical-align: middle;\n",
       "    }\n",
       "\n",
       "    .dataframe tbody tr th {\n",
       "        vertical-align: top;\n",
       "    }\n",
       "\n",
       "    .dataframe thead th {\n",
       "        text-align: right;\n",
       "    }\n",
       "</style>\n",
       "<table border=\"1\" class=\"dataframe\">\n",
       "  <thead>\n",
       "    <tr style=\"text-align: right;\">\n",
       "      <th></th>\n",
       "      <th>fixed acidity</th>\n",
       "      <th>volatile acidity</th>\n",
       "      <th>citric acid</th>\n",
       "      <th>residual sugar</th>\n",
       "      <th>chlorides</th>\n",
       "      <th>free sulfur dioxide</th>\n",
       "      <th>total sulfur dioxide</th>\n",
       "      <th>density</th>\n",
       "      <th>pH</th>\n",
       "      <th>sulphates</th>\n",
       "      <th>alcohol</th>\n",
       "    </tr>\n",
       "  </thead>\n",
       "  <tbody>\n",
       "    <tr>\n",
       "      <th>1216</th>\n",
       "      <td>7.9</td>\n",
       "      <td>0.57</td>\n",
       "      <td>0.31</td>\n",
       "      <td>2.0</td>\n",
       "      <td>0.079</td>\n",
       "      <td>0.126761</td>\n",
       "      <td>0.654172</td>\n",
       "      <td>0.99677</td>\n",
       "      <td>3.29</td>\n",
       "      <td>0.69</td>\n",
       "      <td>9.5</td>\n",
       "    </tr>\n",
       "  </tbody>\n",
       "</table>\n",
       "</div>"
      ],
      "text/plain": [
       "      fixed acidity  volatile acidity  citric acid  residual sugar  chlorides  \\\n",
       "1216            7.9              0.57         0.31             2.0      0.079   \n",
       "\n",
       "      free sulfur dioxide  total sulfur dioxide  density    pH  sulphates  \\\n",
       "1216             0.126761              0.654172  0.99677  3.29       0.69   \n",
       "\n",
       "      alcohol  \n",
       "1216      9.5  "
      ]
     },
     "execution_count": 35,
     "metadata": {},
     "output_type": "execute_result"
    }
   ],
   "source": [
    "df"
   ]
  }
 ],
 "metadata": {
  "kernelspec": {
   "display_name": "Python 3",
   "language": "python",
   "name": "python3"
  },
  "language_info": {
   "codemirror_mode": {
    "name": "ipython",
    "version": 3
   },
   "file_extension": ".py",
   "mimetype": "text/x-python",
   "name": "python",
   "nbconvert_exporter": "python",
   "pygments_lexer": "ipython3",
   "version": "3.9.5"
  }
 },
 "nbformat": 4,
 "nbformat_minor": 5
}
